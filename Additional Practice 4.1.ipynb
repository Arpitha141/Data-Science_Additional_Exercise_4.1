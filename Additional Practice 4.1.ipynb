{
 "cells": [
  {
   "cell_type": "markdown",
   "metadata": {},
   "source": [
    "## 1) Write a Python program which accepts a list named : randomList = ['a', 0,2]. Use exception handling using try-catch which gives the output as:"
   ]
  },
  {
   "cell_type": "markdown",
   "metadata": {},
   "source": [
    "## Output\n",
    "1) If the List element is a alphabet or string, the output will be The entry is a Oops! <class 'ValueError'> occured. Next entry.\n",
    "\n",
    "2) If the List element is “0”,the output will be The entry is 0 Oops! <class 'ZeroDivisionError'> occured. Next entry.\n",
    "\n",
    "3) If the List element is and integer except 0,then output will be\n",
    "The entry is 2\n",
    "The reciprocal of 2 is 0.5 // reciprocal of an integer"
   ]
  },
  {
   "cell_type": "code",
   "execution_count": 1,
   "metadata": {},
   "outputs": [
    {
     "name": "stdout",
     "output_type": "stream",
     "text": [
      "The entry is a\n",
      "Oops! <class 'ValueError'> occured.\n",
      "Next entry.\n",
      "\n",
      "The entry is 0\n",
      "Oops! <class 'ZeroDivisionError'> occured.\n",
      "Next entry.\n",
      "\n",
      "The entry is 2\n",
      "The reciprocal of 2 is 0.5\n"
     ]
    }
   ],
   "source": [
    "# import module sys to get the type of exception\n",
    "import sys\n",
    "\n",
    "randomList = ['a', 0, 2]\n",
    "\n",
    "for entry in randomList:\n",
    "    try:\n",
    "        print(\"The entry is\", entry)\n",
    "        r = 1/int(entry)\n",
    "        break\n",
    "    except:\n",
    "        print(\"Oops!\",sys.exc_info()[0],\"occured.\")\n",
    "        print(\"Next entry.\")\n",
    "        print()\n",
    "print(\"The reciprocal of\",entry,\"is\",r)"
   ]
  },
  {
   "cell_type": "code",
   "execution_count": null,
   "metadata": {},
   "outputs": [],
   "source": []
  },
  {
   "cell_type": "markdown",
   "metadata": {},
   "source": [
    "## 2) Array out of Bound Exception\n",
    "Write a Python program to give exception “Array Out of Bound” if the\n",
    "user wants to access the elements beyond the list size (use try and exce\n",
    "pt)"
   ]
  },
  {
   "cell_type": "code",
   "execution_count": null,
   "metadata": {},
   "outputs": [],
   "source": [
    "#import numpy \n",
    "import numpy as np"
   ]
  },
  {
   "cell_type": "code",
   "execution_count": 2,
   "metadata": {},
   "outputs": [
    {
     "name": "stdout",
     "output_type": "stream",
     "text": [
      "Array reading :1\n",
      "Array reading :2\n",
      "Array reading :3\n",
      "Array reading :4\n",
      "Array reading :5\n",
      "Array reading :6\n",
      "Array reading :7\n",
      "Array Out of Bound Exception\n",
      "Array Out of Bound Exception\n",
      "Array Out of Bound Exception\n"
     ]
    }
   ],
   "source": [
    "array1=np.array([1,2,3,4,5,6,7])\n",
    "for i in range(10):\n",
    "    try:\n",
    "        print('Array reading :' +str(array1[i]))\n",
    "    except:\n",
    "        print('Array Out of Bound Exception')\n",
    "        \n",
    "    "
   ]
  },
  {
   "cell_type": "code",
   "execution_count": 3,
   "metadata": {},
   "outputs": [
    {
     "name": "stdout",
     "output_type": "stream",
     "text": [
      "Please enter the position of the array to access the value: 10\n",
      "Array Out of Bound Exception\n"
     ]
    }
   ],
   "source": [
    "array1=np.array([1,2,3,4,5,6,7])\n",
    "n = input('Please enter the position of the array to access the value: ')\n",
    "try: \n",
    "    if(n.isdigit()):\n",
    "        n = int(n)\n",
    "        print('Array reading :: ' +str(array1[n]))\n",
    "except:\n",
    "    print('Array Out of Bound Exception')"
   ]
  },
  {
   "cell_type": "markdown",
   "metadata": {},
   "source": [
    "## 3) Write a python module script that contains fib2() method to calculate the fibonacci series till 1000 and save it as fibo.py.\n",
    "\n",
    "Note : The module created as fibo.py has to be placed in lib\n",
    "folder\n",
    "\n",
    "For linux/ubuntu path = /home/anaconda/lib/python3\n",
    "\n",
    "For Windows path = C:\\Users\\Ajit\\Anaconda3\\Lib"
   ]
  },
  {
   "cell_type": "code",
   "execution_count": 4,
   "metadata": {},
   "outputs": [
    {
     "data": {
      "text/plain": [
       "[1, 1, 2, 3, 5, 8, 13, 21, 34, 55, 89, 144, 233, 377, 610, 987]"
      ]
     },
     "execution_count": 4,
     "metadata": {},
     "output_type": "execute_result"
    }
   ],
   "source": [
    "#Importing the custom module fibo which is saved in the library\n",
    "import fibo\n",
    "\n",
    "\n",
    "fibo.fib2()"
   ]
  },
  {
   "cell_type": "code",
   "execution_count": 5,
   "metadata": {},
   "outputs": [
    {
     "name": "stdout",
     "output_type": "stream",
     "text": [
      "['In', 'Out', '_', '_4', '__', '___', '__builtin__', '__builtins__', '__doc__', '__loader__', '__name__', '__package__', '__spec__', '_dh', '_i', '_i1', '_i2', '_i3', '_i4', '_i5', '_ih', '_ii', '_iii', '_oh', 'array1', 'entry', 'exit', 'fibo', 'get_ipython', 'i', 'n', 'np', 'quit', 'r', 'randomList', 'sys']\n"
     ]
    }
   ],
   "source": [
    "#module fibo is added to the path \n",
    "print(dir())"
   ]
  },
  {
   "cell_type": "markdown",
   "metadata": {},
   "source": [
    "## 4) Write a python module script that contains ispalindrome() method to calculate the input string as palindrome string or not and save it as palindrome.py"
   ]
  },
  {
   "cell_type": "code",
   "execution_count": 6,
   "metadata": {},
   "outputs": [],
   "source": [
    "#Importing the custom module palindrome which is saved in the library\n",
    "import palindrome"
   ]
  },
  {
   "cell_type": "code",
   "execution_count": 7,
   "metadata": {},
   "outputs": [
    {
     "data": {
      "text/plain": [
       "True"
      ]
     },
     "execution_count": 7,
     "metadata": {},
     "output_type": "execute_result"
    }
   ],
   "source": [
    "palindrome.isPalindrome('malayalam')"
   ]
  },
  {
   "cell_type": "code",
   "execution_count": 8,
   "metadata": {},
   "outputs": [
    {
     "data": {
      "text/plain": [
       "False"
      ]
     },
     "execution_count": 8,
     "metadata": {},
     "output_type": "execute_result"
    }
   ],
   "source": [
    "palindrome.isPalindrome('arpitha')"
   ]
  },
  {
   "cell_type": "code",
   "execution_count": 9,
   "metadata": {},
   "outputs": [
    {
     "name": "stdout",
     "output_type": "stream",
     "text": [
      "['In', 'Out', '_', '_4', '_7', '_8', '__', '___', '__builtin__', '__builtins__', '__doc__', '__loader__', '__name__', '__package__', '__spec__', '_dh', '_i', '_i1', '_i2', '_i3', '_i4', '_i5', '_i6', '_i7', '_i8', '_i9', '_ih', '_ii', '_iii', '_oh', 'array1', 'entry', 'exit', 'fibo', 'get_ipython', 'i', 'n', 'np', 'palindrome', 'quit', 'r', 'randomList', 'sys']\n"
     ]
    }
   ],
   "source": [
    "#module palindrome is added to the path\n",
    "print(dir())"
   ]
  },
  {
   "cell_type": "code",
   "execution_count": null,
   "metadata": {},
   "outputs": [],
   "source": []
  }
 ],
 "metadata": {
  "kernelspec": {
   "display_name": "Python 3",
   "language": "python",
   "name": "python3"
  },
  "language_info": {
   "codemirror_mode": {
    "name": "ipython",
    "version": 3
   },
   "file_extension": ".py",
   "mimetype": "text/x-python",
   "name": "python",
   "nbconvert_exporter": "python",
   "pygments_lexer": "ipython3",
   "version": "3.7.0"
  }
 },
 "nbformat": 4,
 "nbformat_minor": 2
}
